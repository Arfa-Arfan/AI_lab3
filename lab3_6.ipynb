{
 "cells": [
  {
   "cell_type": "code",
   "execution_count": null,
   "id": "48339de3-ae4d-4e1f-93c2-48f49be26999",
   "metadata": {},
   "outputs": [],
   "source": [
    "# =============================================================================\n",
    "# Task 6 — Mini Data Analyzer\n",
    "# =============================================================================\n",
    "\n",
    "print(\"=== Task 6: Data Analyzer ===\")\n",
    "\n",
    "# Practice Variation: Let user enter their own numbers\n",
    "user_numbers = input(\"Enter numbers separated by space: \")\n",
    "\n",
    "# Convert input string to list of integers\n",
    "numbers = [int(num) for num in user_numbers.split()]\n",
    "\n",
    "# Step 2: Define function to analyze numbers\n",
    "def analyze(nums):\n",
    "    maximum = max(nums)   # Find largest number\n",
    "    minimum = min(nums)   # Find smallest number\n",
    "    average = sum(nums) / len(nums)   # Calculate mean\n",
    "    \n",
    "    # Print summary\n",
    "    print(\"Numbers:\", nums)\n",
    "    print(\"Max:\", maximum)\n",
    "    print(\"Min:\", minimum)\n",
    "    print(\"Average:\", round(average, 2))\n",
    "    \n",
    "    # Find numbers greater than average\n",
    "    above_avg = [n for n in nums if n > average]\n",
    "    print(\"Above average:\", above_avg)\n",
    "\n",
    "# Step 3: Call function\n",
    "analyze(numbers)"
   ]
  }
 ],
 "metadata": {
  "kernelspec": {
   "display_name": "Python 3 (ipykernel)",
   "language": "python",
   "name": "python3"
  },
  "language_info": {
   "codemirror_mode": {
    "name": "ipython",
    "version": 3
   },
   "file_extension": ".py",
   "mimetype": "text/x-python",
   "name": "python",
   "nbconvert_exporter": "python",
   "pygments_lexer": "ipython3",
   "version": "3.13.5"
  }
 },
 "nbformat": 4,
 "nbformat_minor": 5
}
