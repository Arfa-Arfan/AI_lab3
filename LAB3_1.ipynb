{
 "cells": [
  {
   "cell_type": "code",
   "execution_count": 1,
   "id": "30999ee8-4089-4c52-b33b-940cc2a4a7aa",
   "metadata": {},
   "outputs": [
    {
     "name": "stdout",
     "output_type": "stream",
     "text": [
      "=== Task 1: Student Marks & Grades ===\n",
      "Ali: 85 -> Grade: A\n",
      "Sara: 67 -> Grade: B\n",
      "Bilal: 45 -> Grade: Fail\n",
      "Class Average: 65.67\n"
     ]
    }
   ],
   "source": [
    "# =============================================================================\n",
    "# Task 1 — Student Marks & Grades\n",
    "# =============================================================================\n",
    "\n",
    "print(\"=== Task 1: Student Marks & Grades ===\")\n",
    "\n",
    "# Step 1: Create a dictionary with student names and their marks\n",
    "students = {\"Ali\": 85, \"Sara\": 67, \"Bilal\": 45}\n",
    "\n",
    "# Step 2: Define a function to check grades for each student\n",
    "def print_results(data):\n",
    "    \"\"\"\n",
    "    This function takes a dictionary of student:marks and prints each student's marks with grade.\n",
    "    \"\"\"\n",
    "    total_marks = 0  # Initialize total marks for average calculation\n",
    "    \n",
    "    # Loop through dictionary using items() to get (name, marks)\n",
    "    for name, marks in data.items():\n",
    "        total_marks += marks  # Add marks to total for average\n",
    "        \n",
    "        # Apply grading rules using if/elif/else\n",
    "        if marks >= 80:\n",
    "            grade = \"A\"\n",
    "        elif marks >= 60:\n",
    "            grade = \"B\"\n",
    "        elif marks >= 50:\n",
    "            grade = \"C\"\n",
    "        else:\n",
    "            grade = \"Fail\"\n",
    "        \n",
    "        # Print result for each student\n",
    "        print(f\"{name}: {marks} -> Grade: {grade}\")\n",
    "    \n",
    "    # Calculate and print class average\n",
    "    class_average = total_marks / len(data)\n",
    "    print(f\"Class Average: {class_average:.2f}\")\n",
    "\n",
    "# Step 3: Call the function\n",
    "print_results(students)"
   ]
  },
  {
   "cell_type": "code",
   "execution_count": null,
   "id": "85e10aa1-20fc-4559-880f-ad1f5b1a930b",
   "metadata": {},
   "outputs": [],
   "source": []
  },
  {
   "cell_type": "code",
   "execution_count": null,
   "id": "d919cd1c-7085-4cfa-9431-937ce02cb457",
   "metadata": {},
   "outputs": [],
   "source": []
  }
 ],
 "metadata": {
  "kernelspec": {
   "display_name": "Python 3 (ipykernel)",
   "language": "python",
   "name": "python3"
  },
  "language_info": {
   "codemirror_mode": {
    "name": "ipython",
    "version": 3
   },
   "file_extension": ".py",
   "mimetype": "text/x-python",
   "name": "python",
   "nbconvert_exporter": "python",
   "pygments_lexer": "ipython3",
   "version": "3.13.5"
  }
 },
 "nbformat": 4,
 "nbformat_minor": 5
}
