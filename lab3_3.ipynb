{
 "cells": [
  {
   "cell_type": "code",
   "execution_count": null,
   "id": "41065d33-ff1e-4d30-bc11-9bae2952be6c",
   "metadata": {},
   "outputs": [],
   "source": [
    "# =============================================================================\n",
    "# Task 3 — Mini Chatbot\n",
    "# =============================================================================\n",
    "\n",
    "print(\"=== Task 3: Simple Chatbot ===\")\n",
    "\n",
    "# Step 1: Create dictionary of possible responses\n",
    "responses = {\n",
    "    \"hi\": \"Hello! How can I help you?\",\n",
    "    \"hello\": \"Hi there! Nice to meet you!\",\n",
    "    \"bye\": \"Goodbye! Have a nice day!\",\n",
    "    \"goodbye\": \"See you later!\",\n",
    "    \"how are you\": \"I'm doing great, thanks!\",\n",
    "    \"what's your name\": \"I'm a simple chatbot!\",\n",
    "    \"thank you\": \"You're welcome!\"\n",
    "}\n",
    "\n",
    "# Step 2: Take input from user\n",
    "user_input = input(\"You: \").lower()  # Convert to lowercase for matching\n",
    "\n",
    "# Step 3: Match user input with dictionary keys\n",
    "if user_input in responses:\n",
    "    # If user input exists, print the response\n",
    "    print(\"Bot:\", responses[user_input])\n",
    "else:\n",
    "    # If input not found, show default response\n",
    "    print(\"Bot: Sorry, I don't understand.\")"
   ]
  }
 ],
 "metadata": {
  "kernelspec": {
   "display_name": "Python 3 (ipykernel)",
   "language": "python",
   "name": "python3"
  },
  "language_info": {
   "codemirror_mode": {
    "name": "ipython",
    "version": 3
   },
   "file_extension": ".py",
   "mimetype": "text/x-python",
   "name": "python",
   "nbconvert_exporter": "python",
   "pygments_lexer": "ipython3",
   "version": "3.13.5"
  }
 },
 "nbformat": 4,
 "nbformat_minor": 5
}
