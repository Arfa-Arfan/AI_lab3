{
 "cells": [
  {
   "cell_type": "code",
   "execution_count": null,
   "id": "f90a64ba-4fcc-4ccd-a171-07d133333f8d",
   "metadata": {},
   "outputs": [],
   "source": [
    "# =============================================================================\n",
    "# Task 4 — Movie Recommendation\n",
    "# =============================================================================\n",
    "\n",
    "print(\"=== Task 4: Movie Recommender ===\")\n",
    "\n",
    "import random  # Import random library for random.choice()\n",
    "\n",
    "# Step 1: Create dictionary of genres and movie lists\n",
    "movies = {\n",
    "    \"action\": [\"Avengers\", \"Batman\", \"Spiderman\"],\n",
    "    \"comedy\": [\"Mr. Bean\", \"Home Alone\", \"The Mask\"],\n",
    "    \"sci-fi\": [\"Interstellar\", \"Inception\", \"The Matrix\"],\n",
    "    \"horror\": [\"The Conjuring\", \"Annabelle\", \"Insidious\"]  # Practice Variation: Added horror genre\n",
    "}\n",
    "\n",
    "# Step 2: Ask user for preferred genre\n",
    "genre = input(\"Enter genre (action/comedy/sci-fi/horror): \").lower()\n",
    "\n",
    "# Step 3: Check if genre exists in dictionary\n",
    "if genre in movies:\n",
    "    # Suggest a random movie from the selected genre\n",
    "    recommended_movie = random.choice(movies[genre])\n",
    "    print(f\"Recommended movie: {recommended_movie}\")\n",
    "else:\n",
    "    # Handle invalid input\n",
    "    print(\"Sorry, try action, comedy, sci-fi, or horror.\")"
   ]
  }
 ],
 "metadata": {
  "kernelspec": {
   "display_name": "Python 3 (ipykernel)",
   "language": "python",
   "name": "python3"
  },
  "language_info": {
   "codemirror_mode": {
    "name": "ipython",
    "version": 3
   },
   "file_extension": ".py",
   "mimetype": "text/x-python",
   "name": "python",
   "nbconvert_exporter": "python",
   "pygments_lexer": "ipython3",
   "version": "3.13.5"
  }
 },
 "nbformat": 4,
 "nbformat_minor": 5
}
