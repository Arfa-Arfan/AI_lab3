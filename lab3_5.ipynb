{
 "cells": [
  {
   "cell_type": "code",
   "execution_count": null,
   "id": "ddd80d52-90b4-4fa6-8d9e-a2a526dd1b68",
   "metadata": {},
   "outputs": [],
   "source": [
    "# =============================================================================\n",
    "# Task 5 — Weather-Based Decision\n",
    "# =============================================================================\n",
    "\n",
    "print(\"=== Task 5: Weather Decision ===\")\n",
    "\n",
    "# Step 1: Define function with weather as input\n",
    "def suggest_activity(weather):\n",
    "    weather = weather.lower()   # Normalize input to lowercase\n",
    "    if weather == \"sunny\":\n",
    "        return \"Go outside and enjoy the sun!\"\n",
    "    elif weather == \"rainy\":\n",
    "        return \"Take an umbrella and wear raincoat.\"\n",
    "    elif weather == \"cold\":\n",
    "        return \"Stay warm at home with hot chocolate.\"\n",
    "    elif weather == \"windy\":\n",
    "        return \"Fly a kite or stay indoors.\"\n",
    "    else:\n",
    "        return \"Unknown weather condition.\"\n",
    "\n",
    "# Step 2: Take user input for weather (Practice Variation)\n",
    "weather_input = input(\"Enter weather (sunny/rainy/cold/windy): \")\n",
    "suggestion = suggest_activity(weather_input)\n",
    "print(f\"Weather: {weather_input} -> Suggestion: {suggestion}\")"
   ]
  }
 ],
 "metadata": {
  "kernelspec": {
   "display_name": "Python 3 (ipykernel)",
   "language": "python",
   "name": "python3"
  },
  "language_info": {
   "codemirror_mode": {
    "name": "ipython",
    "version": 3
   },
   "file_extension": ".py",
   "mimetype": "text/x-python",
   "name": "python",
   "nbconvert_exporter": "python",
   "pygments_lexer": "ipython3",
   "version": "3.13.5"
  }
 },
 "nbformat": 4,
 "nbformat_minor": 5
}
